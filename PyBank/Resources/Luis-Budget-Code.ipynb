{
 "cells": [
  {
   "cell_type": "code",
   "execution_count": 1,
   "id": "952e36fe",
   "metadata": {},
   "outputs": [
    {
     "name": "stdout",
     "output_type": "stream",
     "text": [
      "Financial Analysis\n",
      "------------------\n",
      "Total Months: 86\n",
      "Total: $22564198\n",
      "Average Change: $-8311.11\n",
      "Greatest Increase in Profits: Aug-16 ($1862002.0)\n",
      "Greatest Decrease in Profits: Feb-14 ($-1825558.0)\n"
     ]
    }
   ],
   "source": [
    "import pandas as pd\n",
    "\n",
    "# Function to calculate financial analysis\n",
    "def financial_analysis(csv_file):\n",
    "    # Read CSV file into a pandas DataFrame\n",
    "    df = pd.read_csv(csv_file)\n",
    "    \n",
    "    # Calculate total number of months\n",
    "    total_months = len(df)\n",
    "    \n",
    "    # Calculate net total amount of profit/losses\n",
    "    net_total = df[\"Profit/Losses\"].sum()\n",
    "    \n",
    "    # Calculate changes in profit/loss\n",
    "    df[\"Change\"] = df[\"Profit/Losses\"].diff()\n",
    "    \n",
    "    # Calculate average change\n",
    "    average_change = df[\"Change\"].mean()\n",
    "    \n",
    "    # Find greatest increase and decrease\n",
    "    greatest_increase = df.loc[df[\"Change\"].idxmax()]\n",
    "    greatest_decrease = df.loc[df[\"Change\"].idxmin()]\n",
    "    \n",
    "    # Print financial analysis results\n",
    "    print(\"Financial Analysis\")\n",
    "    print(\"------------------\")\n",
    "    print(f\"Total Months: {total_months}\")\n",
    "    print(f\"Total: ${net_total}\")\n",
    "    print(f\"Average Change: ${average_change:.2f}\")\n",
    "    print(f\"Greatest Increase in Profits: {greatest_increase['Date']} (${greatest_increase['Change']})\")\n",
    "    print(f\"Greatest Decrease in Profits: {greatest_decrease['Date']} (${greatest_decrease['Change']})\")\n",
    "\n",
    "# Run financial analysis on the provided dataset\n",
    "financial_analysis(\"budget_data.csv\")\n"
   ]
  }
 ],
 "metadata": {
  "kernelspec": {
   "display_name": "Python 3 (ipykernel)",
   "language": "python",
   "name": "python3"
  },
  "language_info": {
   "codemirror_mode": {
    "name": "ipython",
    "version": 3
   },
   "file_extension": ".py",
   "mimetype": "text/x-python",
   "name": "python",
   "nbconvert_exporter": "python",
   "pygments_lexer": "ipython3",
   "version": "3.11.5"
  }
 },
 "nbformat": 4,
 "nbformat_minor": 5
}
