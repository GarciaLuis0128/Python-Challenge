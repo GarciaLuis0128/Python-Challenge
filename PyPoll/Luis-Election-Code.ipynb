{
 "cells": [
  {
   "cell_type": "code",
   "execution_count": 1,
   "id": "6db747a4",
   "metadata": {},
   "outputs": [
    {
     "name": "stdout",
     "output_type": "stream",
     "text": [
      "Election Results\n",
      "-------------------------\n",
      "Total Votes: 369711\n",
      "-------------------------\n",
      "Charles Casper Stockham: 23.049% (85213)\n",
      "Diana DeGette: 73.812% (272892)\n",
      "Raymon Anthony Doane: 3.139% (11606)\n",
      "-------------------------\n",
      "Winner: Diana DeGette\n",
      "-------------------------\n"
     ]
    }
   ],
   "source": [
    "import pandas as pd\n",
    "\n",
    "# Function to analyze election data\n",
    "def analyze_election(csv_file):\n",
    "    # Read CSV file into a pandas DataFrame\n",
    "    df = pd.read_csv(csv_file)\n",
    "    \n",
    "    # Calculate total number of votes cast\n",
    "    total_votes = len(df)\n",
    "    \n",
    "    # Get a list of candidates who received votes\n",
    "    candidates = df[\"Candidate\"].unique()\n",
    "    \n",
    "    # Calculate the total number of votes each candidate won\n",
    "    votes_per_candidate = df[\"Candidate\"].value_counts()\n",
    "    \n",
    "    # Calculate the percentage of votes each candidate won\n",
    "    percentage_per_candidate = (votes_per_candidate / total_votes) * 100\n",
    "    \n",
    "    # Find the winner of the election based on popular vote\n",
    "    winner = votes_per_candidate.idxmax()\n",
    "    \n",
    "    # Print election analysis results\n",
    "    print(\"Election Results\")\n",
    "    print(\"-------------------------\")\n",
    "    print(f\"Total Votes: {total_votes}\")\n",
    "    print(\"-------------------------\")\n",
    "    for candidate in candidates:\n",
    "        print(f\"{candidate}: {percentage_per_candidate[candidate]:.3f}% ({votes_per_candidate[candidate]})\")\n",
    "    print(\"-------------------------\")\n",
    "    print(f\"Winner: {winner}\")\n",
    "    print(\"-------------------------\")\n",
    "\n",
    "# Run election analysis on the provided dataset\n",
    "analyze_election(\"election_data.csv\")\n"
   ]
  }
 ],
 "metadata": {
  "kernelspec": {
   "display_name": "Python 3 (ipykernel)",
   "language": "python",
   "name": "python3"
  },
  "language_info": {
   "codemirror_mode": {
    "name": "ipython",
    "version": 3
   },
   "file_extension": ".py",
   "mimetype": "text/x-python",
   "name": "python",
   "nbconvert_exporter": "python",
   "pygments_lexer": "ipython3",
   "version": "3.11.5"
  }
 },
 "nbformat": 4,
 "nbformat_minor": 5
}
